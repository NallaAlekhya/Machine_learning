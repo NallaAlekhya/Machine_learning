{
 "cells": [
  {
   "cell_type": "markdown",
   "id": "6000b5c5",
   "metadata": {},
   "source": [
    "# Question 1 Apply Linear Regression to the provided dataset using underlying steps."
   ]
  },
  {
   "cell_type": "code",
   "execution_count": 208,
   "id": "a29458aa",
   "metadata": {},
   "outputs": [],
   "source": [
    "import pandas as pd\n",
    "import matplotlib.pyplot as plt\n",
    "from sklearn.metrics import mean_squared_error\n",
    "from sklearn.model_selection import train_test_split\n",
    "from sklearn.linear_model import LinearRegression as LR"
   ]
  },
  {
   "cell_type": "code",
   "execution_count": 209,
   "id": "9dfa9fad",
   "metadata": {},
   "outputs": [],
   "source": [
    "# importing the dataset values from the local folder\n",
    "dataset_folder = r\"D:/Machine Learning/Assignment 4/datasets/\"\n"
   ]
  },
  {
   "cell_type": "markdown",
   "id": "be3c153f",
   "metadata": {},
   "source": [
    "# a.\n"
   ]
  },
  {
   "cell_type": "code",
   "execution_count": 210,
   "id": "78121fc0",
   "metadata": {},
   "outputs": [],
   "source": [
    "#importing the csv file from the dataset folder\n",
    "salary = pd.read_csv(dataset_folder+\"Salary_data.csv\")"
   ]
  },
  {
   "cell_type": "code",
   "execution_count": 211,
   "id": "2f1a2198",
   "metadata": {},
   "outputs": [
    {
     "data": {
      "text/html": [
       "<div>\n",
       "<style scoped>\n",
       "    .dataframe tbody tr th:only-of-type {\n",
       "        vertical-align: middle;\n",
       "    }\n",
       "\n",
       "    .dataframe tbody tr th {\n",
       "        vertical-align: top;\n",
       "    }\n",
       "\n",
       "    .dataframe thead th {\n",
       "        text-align: right;\n",
       "    }\n",
       "</style>\n",
       "<table border=\"1\" class=\"dataframe\">\n",
       "  <thead>\n",
       "    <tr style=\"text-align: right;\">\n",
       "      <th></th>\n",
       "      <th>YearsExperience</th>\n",
       "      <th>Salary</th>\n",
       "    </tr>\n",
       "  </thead>\n",
       "  <tbody>\n",
       "    <tr>\n",
       "      <th>0</th>\n",
       "      <td>1.1</td>\n",
       "      <td>39343.0</td>\n",
       "    </tr>\n",
       "    <tr>\n",
       "      <th>1</th>\n",
       "      <td>1.3</td>\n",
       "      <td>46205.0</td>\n",
       "    </tr>\n",
       "    <tr>\n",
       "      <th>2</th>\n",
       "      <td>1.5</td>\n",
       "      <td>37731.0</td>\n",
       "    </tr>\n",
       "    <tr>\n",
       "      <th>3</th>\n",
       "      <td>2.0</td>\n",
       "      <td>43525.0</td>\n",
       "    </tr>\n",
       "    <tr>\n",
       "      <th>4</th>\n",
       "      <td>2.2</td>\n",
       "      <td>39891.0</td>\n",
       "    </tr>\n",
       "  </tbody>\n",
       "</table>\n",
       "</div>"
      ],
      "text/plain": [
       "   YearsExperience   Salary\n",
       "0              1.1  39343.0\n",
       "1              1.3  46205.0\n",
       "2              1.5  37731.0\n",
       "3              2.0  43525.0\n",
       "4              2.2  39891.0"
      ]
     },
     "execution_count": 211,
     "metadata": {},
     "output_type": "execute_result"
    }
   ],
   "source": [
    "salary.head()\n"
   ]
  },
  {
   "cell_type": "code",
   "execution_count": 212,
   "id": "aad538b8",
   "metadata": {},
   "outputs": [
    {
     "name": "stdout",
     "output_type": "stream",
     "text": [
      "YearsExperience    0\n",
      "Salary             0\n",
      "dtype: int64\n"
     ]
    }
   ],
   "source": [
    "#Checking for the total number of  null values\n",
    "print(salary.isnull().sum()) "
   ]
  },
  {
   "cell_type": "markdown",
   "id": "212204f7",
   "metadata": {},
   "source": [
    "# b.\n"
   ]
  },
  {
   "cell_type": "code",
   "execution_count": 207,
   "id": "1783bad8",
   "metadata": {},
   "outputs": [],
   "source": [
    "X = salary.iloc[:, :-1].values\n",
    "Y = salary.iloc[:, -1].values\n",
    "# Spliting the data in train_test partitions, such that 1/3~0.33 of the data is reserved as test subset.\n",
    "X_train, X_test, Y_train, Y_test = train_test_split(X, Y, test_size = 0.33, random_state = 0)"
   ]
  },
  {
   "cell_type": "code",
   "execution_count": 184,
   "id": "75df7b07",
   "metadata": {},
   "outputs": [
    {
     "name": "stdout",
     "output_type": "stream",
     "text": [
      "0.9381900012894278\n",
      "0.9749154407708353\n"
     ]
    }
   ],
   "source": [
    "reg = LR().fit(X_train, Y_train)\n",
    "#printing the complexity movement of the data which is R^2 value\n",
    "print(reg.score(X_train, Y_train))\n",
    "print(reg.score(X_test, Y_test))"
   ]
  },
  {
   "cell_type": "markdown",
   "id": "06d27ec7",
   "metadata": {},
   "source": [
    "# c."
   ]
  },
  {
   "cell_type": "code",
   "execution_count": 213,
   "id": "6f92af50",
   "metadata": {},
   "outputs": [],
   "source": [
    "#predict the model. \n",
    "Y_test_pred = reg.predict(X_test)"
   ]
  },
  {
   "cell_type": "markdown",
   "id": "fd595ad3",
   "metadata": {},
   "source": [
    "# d."
   ]
  },
  {
   "cell_type": "code",
   "execution_count": 214,
   "id": "6e231114",
   "metadata": {},
   "outputs": [
    {
     "data": {
      "text/plain": [
       "21026037.329511296"
      ]
     },
     "execution_count": 214,
     "metadata": {},
     "output_type": "execute_result"
    }
   ],
   "source": [
    "#Calculating the mean_squared error\n",
    "mean_squared_error(Y_test, Y_test_pred)"
   ]
  },
  {
   "cell_type": "markdown",
   "id": "3c7fb5fd",
   "metadata": {},
   "source": [
    "# e."
   ]
  },
  {
   "cell_type": "code",
   "execution_count": 215,
   "id": "d88349f4",
   "metadata": {},
   "outputs": [
    {
     "data": {
      "image/png": "[encoded data removed]",
      "text/plain": [
       "<Figure size 640x480 with 1 Axes>"
      ]
     },
     "metadata": {},
     "output_type": "display_data"
    }
   ],
   "source": [
    "# a.train plot\n",
    "plt.scatter(X_train, Y_train)\n",
    "plt.show()"
   ]
  },
  {
   "cell_type": "code",
   "execution_count": 216,
   "id": "f8789cf6",
   "metadata": {},
   "outputs": [
    {
     "data": {
      "image/png": "[encoded data removed]",
      "text/plain": [
       "<Figure size 640x480 with 1 Axes>"
      ]
     },
     "metadata": {},
     "output_type": "display_data"
    }
   ],
   "source": [
    "#test data plot\n",
    "plt.scatter(X_test, Y_test)\n",
    "plt.show()"
   ]
  },
  {
   "cell_type": "markdown",
   "id": "40d5b0d1",
   "metadata": {},
   "source": [
    "# 2.Apply K means clustering in the dataset provided:\n",
    "\n"
   ]
  },
  {
   "cell_type": "code",
   "execution_count": 217,
   "id": "d84984e4",
   "metadata": {},
   "outputs": [],
   "source": [
    "from sklearn.preprocessing import MinMaxScaler,StandardScaler\n",
    "from sklearn.cluster import KMeans\n",
    "from sklearn.metrics import silhouette_score "
   ]
  },
  {
   "cell_type": "code",
   "execution_count": 218,
   "id": "9bd406dd",
   "metadata": {},
   "outputs": [
    {
     "data": {
      "text/html": [
       "<div>\n",
       "<style scoped>\n",
       "    .dataframe tbody tr th:only-of-type {\n",
       "        vertical-align: middle;\n",
       "    }\n",
       "\n",
       "    .dataframe tbody tr th {\n",
       "        vertical-align: top;\n",
       "    }\n",
       "\n",
       "    .dataframe thead th {\n",
       "        text-align: right;\n",
       "    }\n",
       "</style>\n",
       "<table border=\"1\" class=\"dataframe\">\n",
       "  <thead>\n",
       "    <tr style=\"text-align: right;\">\n",
       "      <th></th>\n",
       "      <th>CUST_ID</th>\n",
       "      <th>BALANCE</th>\n",
       "      <th>BALANCE_FREQUENCY</th>\n",
       "      <th>PURCHASES</th>\n",
       "      <th>ONEOFF_PURCHASES</th>\n",
       "      <th>INSTALLMENTS_PURCHASES</th>\n",
       "      <th>CASH_ADVANCE</th>\n",
       "      <th>PURCHASES_FREQUENCY</th>\n",
       "      <th>ONEOFF_PURCHASES_FREQUENCY</th>\n",
       "      <th>PURCHASES_INSTALLMENTS_FREQUENCY</th>\n",
       "      <th>CASH_ADVANCE_FREQUENCY</th>\n",
       "      <th>CASH_ADVANCE_TRX</th>\n",
       "      <th>PURCHASES_TRX</th>\n",
       "      <th>CREDIT_LIMIT</th>\n",
       "      <th>PAYMENTS</th>\n",
       "      <th>MINIMUM_PAYMENTS</th>\n",
       "      <th>PRC_FULL_PAYMENT</th>\n",
       "      <th>TENURE</th>\n",
       "    </tr>\n",
       "  </thead>\n",
       "  <tbody>\n",
       "    <tr>\n",
       "      <th>0</th>\n",
       "      <td>C10001</td>\n",
       "      <td>40.900749</td>\n",
       "      <td>0.818182</td>\n",
       "      <td>95.40</td>\n",
       "      <td>0.00</td>\n",
       "      <td>95.4</td>\n",
       "      <td>0.000000</td>\n",
       "      <td>0.166667</td>\n",
       "      <td>0.000000</td>\n",
       "      <td>0.083333</td>\n",
       "      <td>0.000000</td>\n",
       "      <td>0</td>\n",
       "      <td>2</td>\n",
       "      <td>1000.0</td>\n",
       "      <td>201.802084</td>\n",
       "      <td>139.509787</td>\n",
       "      <td>0.000000</td>\n",
       "      <td>12</td>\n",
       "    </tr>\n",
       "    <tr>\n",
       "      <th>1</th>\n",
       "      <td>C10002</td>\n",
       "      <td>3202.467416</td>\n",
       "      <td>0.909091</td>\n",
       "      <td>0.00</td>\n",
       "      <td>0.00</td>\n",
       "      <td>0.0</td>\n",
       "      <td>6442.945483</td>\n",
       "      <td>0.000000</td>\n",
       "      <td>0.000000</td>\n",
       "      <td>0.000000</td>\n",
       "      <td>0.250000</td>\n",
       "      <td>4</td>\n",
       "      <td>0</td>\n",
       "      <td>7000.0</td>\n",
       "      <td>4103.032597</td>\n",
       "      <td>1072.340217</td>\n",
       "      <td>0.222222</td>\n",
       "      <td>12</td>\n",
       "    </tr>\n",
       "    <tr>\n",
       "      <th>2</th>\n",
       "      <td>C10003</td>\n",
       "      <td>2495.148862</td>\n",
       "      <td>1.000000</td>\n",
       "      <td>773.17</td>\n",
       "      <td>773.17</td>\n",
       "      <td>0.0</td>\n",
       "      <td>0.000000</td>\n",
       "      <td>1.000000</td>\n",
       "      <td>1.000000</td>\n",
       "      <td>0.000000</td>\n",
       "      <td>0.000000</td>\n",
       "      <td>0</td>\n",
       "      <td>12</td>\n",
       "      <td>7500.0</td>\n",
       "      <td>622.066742</td>\n",
       "      <td>627.284787</td>\n",
       "      <td>0.000000</td>\n",
       "      <td>12</td>\n",
       "    </tr>\n",
       "    <tr>\n",
       "      <th>3</th>\n",
       "      <td>C10004</td>\n",
       "      <td>1666.670542</td>\n",
       "      <td>0.636364</td>\n",
       "      <td>1499.00</td>\n",
       "      <td>1499.00</td>\n",
       "      <td>0.0</td>\n",
       "      <td>205.788017</td>\n",
       "      <td>0.083333</td>\n",
       "      <td>0.083333</td>\n",
       "      <td>0.000000</td>\n",
       "      <td>0.083333</td>\n",
       "      <td>1</td>\n",
       "      <td>1</td>\n",
       "      <td>7500.0</td>\n",
       "      <td>0.000000</td>\n",
       "      <td>NaN</td>\n",
       "      <td>0.000000</td>\n",
       "      <td>12</td>\n",
       "    </tr>\n",
       "    <tr>\n",
       "      <th>4</th>\n",
       "      <td>C10005</td>\n",
       "      <td>817.714335</td>\n",
       "      <td>1.000000</td>\n",
       "      <td>16.00</td>\n",
       "      <td>16.00</td>\n",
       "      <td>0.0</td>\n",
       "      <td>0.000000</td>\n",
       "      <td>0.083333</td>\n",
       "      <td>0.083333</td>\n",
       "      <td>0.000000</td>\n",
       "      <td>0.000000</td>\n",
       "      <td>0</td>\n",
       "      <td>1</td>\n",
       "      <td>1200.0</td>\n",
       "      <td>678.334763</td>\n",
       "      <td>244.791237</td>\n",
       "      <td>0.000000</td>\n",
       "      <td>12</td>\n",
       "    </tr>\n",
       "  </tbody>\n",
       "</table>\n",
       "</div>"
      ],
      "text/plain": [
       "  CUST_ID      BALANCE  BALANCE_FREQUENCY  PURCHASES  ONEOFF_PURCHASES  \\\n",
       "0  C10001    40.900749           0.818182      95.40              0.00   \n",
       "1  C10002  3202.467416           0.909091       0.00              0.00   \n",
       "2  C10003  2495.148862           1.000000     773.17            773.17   \n",
       "3  C10004  1666.670542           0.636364    1499.00           1499.00   \n",
       "4  C10005   817.714335           1.000000      16.00             16.00   \n",
       "\n",
       "   INSTALLMENTS_PURCHASES  CASH_ADVANCE  PURCHASES_FREQUENCY  \\\n",
       "0                    95.4      0.000000             0.166667   \n",
       "1                     0.0   6442.945483             0.000000   \n",
       "2                     0.0      0.000000             1.000000   \n",
       "3                     0.0    205.788017             0.083333   \n",
       "4                     0.0      0.000000             0.083333   \n",
       "\n",
       "   ONEOFF_PURCHASES_FREQUENCY  PURCHASES_INSTALLMENTS_FREQUENCY  \\\n",
       "0                    0.000000                          0.083333   \n",
       "1                    0.000000                          0.000000   \n",
       "2                    1.000000                          0.000000   \n",
       "3                    0.083333                          0.000000   \n",
       "4                    0.083333                          0.000000   \n",
       "\n",
       "   CASH_ADVANCE_FREQUENCY  CASH_ADVANCE_TRX  PURCHASES_TRX  CREDIT_LIMIT  \\\n",
       "0                0.000000                 0              2        1000.0   \n",
       "1                0.250000                 4              0        7000.0   \n",
       "2                0.000000                 0             12        7500.0   \n",
       "3                0.083333                 1              1        7500.0   \n",
       "4                0.000000                 0              1        1200.0   \n",
       "\n",
       "      PAYMENTS  MINIMUM_PAYMENTS  PRC_FULL_PAYMENT  TENURE  \n",
       "0   201.802084        139.509787          0.000000      12  \n",
       "1  4103.032597       1072.340217          0.222222      12  \n",
       "2   622.066742        627.284787          0.000000      12  \n",
       "3     0.000000               NaN          0.000000      12  \n",
       "4   678.334763        244.791237          0.000000      12  "
      ]
     },
     "execution_count": 218,
     "metadata": {},
     "output_type": "execute_result"
    }
   ],
   "source": [
    "#importing the K-Mean_Dataset\n",
    "df2=pd.read_csv(\"K-Mean_Dataset.csv\")\n",
    "df2.head()"
   ]
  },
  {
   "cell_type": "code",
   "execution_count": 219,
   "id": "cbd3c9e7",
   "metadata": {},
   "outputs": [],
   "source": [
    "#checking for the Null values and removing them\n",
    "new_data_value= df2.iloc[:,1:].values\n",
    "imputer = SimpleImputer(missing_values=np.nan, strategy='mean')\n",
    "imputer = imputer.fit(new_data_value)\n",
    "new_data_value = imputer.transform(new_data_value)"
   ]
  },
  {
   "cell_type": "code",
   "execution_count": 220,
   "id": "68de33c7",
   "metadata": {},
   "outputs": [
    {
     "data": {
      "image/png": "[encoded data removed]",
      "text/plain": [
       "<Figure size 640x480 with 1 Axes>"
      ]
     },
     "metadata": {},
     "output_type": "display_data"
    }
   ],
   "source": [
    "#Using the elbow method to find a good number of clusters with the K-Means algorithm\n",
    "length = []\n",
    "K = range(1,15)\n",
    "for k in K:\n",
    "    km = KMeans(n_clusters=k)\n",
    "    km = km.fit(new_data_value)\n",
    "    length.append(km.inertia_)\n",
    "\n",
    "plt.plot(range(1,11),css,'bx-')\n",
    "plt.xlabel('k value')\n",
    "plt.title('the elbow method')\n",
    "plt.ylabel('Length')\n",
    "plt.title('Elbow Method')\n",
    "plt.show()"
   ]
  },
  {
   "cell_type": "code",
   "execution_count": 221,
   "id": "5dc5204c",
   "metadata": {},
   "outputs": [
    {
     "name": "stdout",
     "output_type": "stream",
     "text": [
      "Silhouetter Score: 0.379\n"
     ]
    }
   ],
   "source": [
    "#Calculate the silhouette score for the above clustering\n",
    "k_means = KMeans(n_clusters=5, random_state=0)\n",
    "k_means.fit_predict(new_data_value)\n",
    "score = silhouette_score(new_data_value, k_means.labels_, metric='euclidean')\n",
    "print('Silhouetter Score: %.3f' % score)"
   ]
  },
  {
   "cell_type": "markdown",
   "id": "828cd2e9",
   "metadata": {},
   "source": [
    "# 3.Try feature scaling and then apply K-Means on the scaled features. Did that improve the Silhouette score? If Yes, can you justify why\n"
   ]
  },
  {
   "cell_type": "code",
   "execution_count": 222,
   "id": "44ea44e2",
   "metadata": {},
   "outputs": [],
   "source": [
    "#Trying the feature scaling and then applying  K-Means on the scaled features\n",
    "mms = MinMaxScaler()\n",
    "mms.fit(new_data_value)\n",
    "changed_data = mms.transform(new_data_value)"
   ]
  },
  {
   "cell_type": "code",
   "execution_count": 223,
   "id": "d4f34938",
   "metadata": {},
   "outputs": [
    {
     "name": "stdout",
     "output_type": "stream",
     "text": [
      "Silhouetter Score: 0.319\n"
     ]
    }
   ],
   "source": [
    "#Calculating the silhouette score for the above scaled features\n",
    "k_means_scalar = KMeans(n_clusters=5, random_state=0)\n",
    "k_means_scalar.fit_predict(changed_data)\n",
    "Scale_score= silhouette_score(changed_data, k_means_scalar.labels_, metric='euclidean')\n",
    "print('Silhouetter Score: %.3f' % Scale_score)"
   ]
  },
  {
   "cell_type": "code",
   "execution_count": 169,
   "id": "58e920b7",
   "metadata": {},
   "outputs": [],
   "source": [
    "#The silhouette score is poor after applying the  K-Means on the scaled features of the given dataset.\n",
    "#Reasons:\n",
    "#The value is near to zero ,that indicates there is no significant difference between the clusters and it denotes there would be overlapping of clusters,where a high value indicates that the object is well matched to its own cluster.\n",
    "#Also,the data is not accurate and does not follow normal distribution.\n",
    "\n"
   ]
  }
 ],
 "metadata": {
  "kernelspec": {
   "display_name": "Python 3 (ipykernel)",
   "language": "python",
   "name": "python3"
  },
  "language_info": {
   "codemirror_mode": {
    "name": "ipython",
    "version": 3
   },
   "file_extension": ".py",
   "mimetype": "text/x-python",
   "name": "python",
   "nbconvert_exporter": "python",
   "pygments_lexer": "ipython3",
   "version": "3.10.4"
  }
 },
 "nbformat": 4,
 "nbformat_minor": 5
}
